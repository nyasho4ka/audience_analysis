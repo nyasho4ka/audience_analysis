{
 "cells": [
  {
   "cell_type": "code",
   "execution_count": 90,
   "id": "eee01f7c",
   "metadata": {},
   "outputs": [],
   "source": [
    "import re\n",
    "import os\n",
    "import pandas as pd\n",
    "import numpy as np"
   ]
  },
  {
   "cell_type": "code",
   "execution_count": 91,
   "id": "a468fdbe",
   "metadata": {},
   "outputs": [],
   "source": [
    "os.chdir('../audio_data')"
   ]
  },
  {
   "cell_type": "code",
   "execution_count": 92,
   "id": "df10b8b8",
   "metadata": {},
   "outputs": [],
   "source": [
    "audio_csv_names = [filename for filename in os.listdir() if 'audio' in filename]"
   ]
  },
  {
   "cell_type": "code",
   "execution_count": 93,
   "id": "2101ada7",
   "metadata": {},
   "outputs": [
    {
     "data": {
      "text/plain": [
       "761"
      ]
     },
     "execution_count": 93,
     "metadata": {},
     "output_type": "execute_result"
    }
   ],
   "source": [
    "len(audio_csv_names)"
   ]
  },
  {
   "cell_type": "code",
   "execution_count": 94,
   "id": "0a196884",
   "metadata": {},
   "outputs": [],
   "source": [
    "audio_dataframes = [\n",
    "    pd.read_csv(csv_path) for csv_path in audio_csv_names\n",
    "]"
   ]
  },
  {
   "cell_type": "code",
   "execution_count": 95,
   "id": "c9e6bb99",
   "metadata": {},
   "outputs": [],
   "source": [
    "final_audio_df = pd.concat(audio_dataframes)"
   ]
  },
  {
   "cell_type": "code",
   "execution_count": 96,
   "id": "e9613584",
   "metadata": {},
   "outputs": [],
   "source": [
    "final_audio_df = final_audio_df.drop(columns=['Unnamed: 0'])"
   ]
  },
  {
   "cell_type": "code",
   "execution_count": 97,
   "id": "07460838",
   "metadata": {},
   "outputs": [
    {
     "data": {
      "text/plain": [
       "MORGENSHTERN           385\n",
       "Макс Корж              179\n",
       "Miyagi & Andy Panda    166\n",
       "10AGE                  164\n",
       "HammAli & Navai        162\n",
       "Name: artist, dtype: int64"
      ]
     },
     "execution_count": 97,
     "metadata": {},
     "output_type": "execute_result"
    }
   ],
   "source": [
    "final_audio_df['artist'].value_counts()[:5]"
   ]
  },
  {
   "cell_type": "code",
   "execution_count": 98,
   "id": "82904459",
   "metadata": {},
   "outputs": [
    {
     "data": {
      "text/plain": [
       "(30169, 5)"
      ]
     },
     "execution_count": 98,
     "metadata": {},
     "output_type": "execute_result"
    }
   ],
   "source": [
    "final_audio_df.shape"
   ]
  },
  {
   "cell_type": "code",
   "execution_count": 99,
   "id": "3b84bdae",
   "metadata": {},
   "outputs": [
    {
     "data": {
      "text/plain": [
       "MORGENSHTERN           385\n",
       "Макс Корж              179\n",
       "Miyagi & Andy Panda    166\n",
       "10AGE                  164\n",
       "HammAli & Navai        162\n",
       "Ramil'                 157\n",
       "Скриптонит             135\n",
       "Король и Шут           120\n",
       "УННВ                   117\n",
       "Элджей                 110\n",
       "Name: artist, dtype: int64"
      ]
     },
     "execution_count": 99,
     "metadata": {},
     "output_type": "execute_result"
    }
   ],
   "source": [
    "final_audio_df['artist'].value_counts()[:10]"
   ]
  },
  {
   "cell_type": "markdown",
   "id": "e94d546b",
   "metadata": {},
   "source": [
    "## There are many rows where track has not one artist. We need to separate it on two several columns: main_artist and feat_artist"
   ]
  },
  {
   "cell_type": "code",
   "execution_count": 100,
   "id": "ec9bee12",
   "metadata": {},
   "outputs": [],
   "source": [
    "def separate_artists(artist: str):\n",
    "    artists = re.split(', | feat. ', artist, maxsplit=1)\n",
    "    if len(artists) == 1:  # There is only a main artist\n",
    "        return pd.Series({'main_artist': artists[0], 'feat_artist': 'absence'})\n",
    "    return pd.Series({'main_artist': artists[0], 'feat_artist': artists[1]})"
   ]
  },
  {
   "cell_type": "code",
   "execution_count": 101,
   "id": "0abaeecb",
   "metadata": {},
   "outputs": [],
   "source": [
    "final_audio_df[['main_artist', 'feat_artist']] = final_audio_df['artist'].apply(separate_artists)"
   ]
  },
  {
   "cell_type": "code",
   "execution_count": 102,
   "id": "d6f9ffce",
   "metadata": {},
   "outputs": [
    {
     "data": {
      "text/plain": [
       "artist                 title                  \n",
       "BRANYA, MACAN          Пополам                    95\n",
       "10AGE                  Пушка                      84\n",
       "Джарахов, Markul       Я в моменте                73\n",
       "HammAli & Navai        Птичка                     67\n",
       "Mekhman                Копия пиратская            64\n",
       "                                                  ..\n",
       "Meek Mill feat. Drake  Going Bad (feat. Drake)     1\n",
       "Meek Mill              Gave Em Hope                1\n",
       "Medina✿                Детство                     1\n",
       "                       Глупый Молодой              1\n",
       "🧸.Krasnoyarskye.🧸      🧸ᴀɴᴅʀᴏᴍᴇᴅᴀ🧸                 1\n",
       "Length: 20801, dtype: int64"
      ]
     },
     "execution_count": 102,
     "metadata": {},
     "output_type": "execute_result"
    }
   ],
   "source": [
    "final_audio_df[['artist', 'title']].value_counts()"
   ]
  },
  {
   "cell_type": "code",
   "execution_count": 103,
   "id": "babd12e8",
   "metadata": {},
   "outputs": [],
   "source": [
    "separated_final_audio_df = final_audio_df.drop(columns='artist')"
   ]
  },
  {
   "cell_type": "code",
   "execution_count": 104,
   "id": "3913cd44",
   "metadata": {
    "scrolled": true
   },
   "outputs": [
    {
     "data": {
      "text/plain": [
       "main_artist        title          \n",
       "BRANYA             Пополам            95\n",
       "10AGE              Пушка              84\n",
       "Джарахов           Я в моменте        74\n",
       "HammAli & Navai    Птичка             67\n",
       "Mekhman            Копия пиратская    64\n",
       "Minelli            Rampampam          58\n",
       "GAYAZOV$ BROTHER$  Пошла жара         56\n",
       "SLAVA MARLOW       CAMRY 3.5          48\n",
       "10AGE              Нету интереса      47\n",
       "Ramil'             Сон                45\n",
       "dtype: int64"
      ]
     },
     "execution_count": 104,
     "metadata": {},
     "output_type": "execute_result"
    }
   ],
   "source": [
    "separated_final_audio_df[['main_artist', 'title']].value_counts()[:10]"
   ]
  },
  {
   "cell_type": "code",
   "execution_count": 105,
   "id": "dd433ce5",
   "metadata": {},
   "outputs": [
    {
     "data": {
      "image/png": "[encoded data removed]",
      "text/plain": [
       "<Figure size 432x288 with 1 Axes>"
      ]
     },
     "metadata": {
      "needs_background": "light"
     },
     "output_type": "display_data"
    }
   ],
   "source": [
    "_ = separated_final_audio_df['main_artist'].value_counts()[:5].plot.bar()"
   ]
  },
  {
   "cell_type": "markdown",
   "id": "99fcf3c2",
   "metadata": {},
   "source": [
    "## GROUP ANALYSIS"
   ]
  },
  {
   "cell_type": "code",
   "execution_count": 81,
   "id": "d62f64b6",
   "metadata": {},
   "outputs": [],
   "source": [
    "os.chdir('../group_data')"
   ]
  },
  {
   "cell_type": "code",
   "execution_count": 82,
   "id": "ec51cc5f",
   "metadata": {},
   "outputs": [],
   "source": [
    "group_file_paths = [filename for filename in os.listdir() if 'group' in filename]"
   ]
  },
  {
   "cell_type": "code",
   "execution_count": 83,
   "id": "190c6910",
   "metadata": {},
   "outputs": [
    {
     "data": {
      "text/plain": [
       "1709"
      ]
     },
     "execution_count": 83,
     "metadata": {},
     "output_type": "execute_result"
    }
   ],
   "source": [
    "len(group_file_paths)"
   ]
  },
  {
   "cell_type": "code",
   "execution_count": 71,
   "id": "e6f4a9a7",
   "metadata": {},
   "outputs": [],
   "source": [
    "final_group_df = pd.concat([pd.read_csv(filename) for filename in group_file_paths])"
   ]
  },
  {
   "cell_type": "code",
   "execution_count": 72,
   "id": "fd35e7b1",
   "metadata": {},
   "outputs": [],
   "source": [
    "final_group_df = final_group_df.drop(columns='Unnamed: 0')"
   ]
  },
  {
   "cell_type": "code",
   "execution_count": 73,
   "id": "f48d8fe6",
   "metadata": {},
   "outputs": [
    {
     "data": {
      "text/html": [
       "<div>\n",
       "<style scoped>\n",
       "    .dataframe tbody tr th:only-of-type {\n",
       "        vertical-align: middle;\n",
       "    }\n",
       "\n",
       "    .dataframe tbody tr th {\n",
       "        vertical-align: top;\n",
       "    }\n",
       "\n",
       "    .dataframe thead th {\n",
       "        text-align: right;\n",
       "    }\n",
       "</style>\n",
       "<table border=\"1\" class=\"dataframe\">\n",
       "  <thead>\n",
       "    <tr style=\"text-align: right;\">\n",
       "      <th></th>\n",
       "      <th>id</th>\n",
       "      <th>name</th>\n",
       "      <th>screen_name</th>\n",
       "      <th>is_closed</th>\n",
       "      <th>type</th>\n",
       "      <th>members_count</th>\n",
       "      <th>activity</th>\n",
       "      <th>age_limits</th>\n",
       "      <th>city</th>\n",
       "      <th>is_admin</th>\n",
       "      <th>is_member</th>\n",
       "      <th>is_advertiser</th>\n",
       "      <th>photo_50</th>\n",
       "      <th>photo_100</th>\n",
       "      <th>photo_200</th>\n",
       "    </tr>\n",
       "  </thead>\n",
       "  <tbody>\n",
       "    <tr>\n",
       "      <th>0</th>\n",
       "      <td>57846937</td>\n",
       "      <td>MDK</td>\n",
       "      <td>mudakoff</td>\n",
       "      <td>0</td>\n",
       "      <td>page</td>\n",
       "      <td>11669902.0</td>\n",
       "      <td>Юмор</td>\n",
       "      <td>1.0</td>\n",
       "      <td>NaN</td>\n",
       "      <td>NaN</td>\n",
       "      <td>NaN</td>\n",
       "      <td>NaN</td>\n",
       "      <td>NaN</td>\n",
       "      <td>NaN</td>\n",
       "      <td>NaN</td>\n",
       "    </tr>\n",
       "    <tr>\n",
       "      <th>1</th>\n",
       "      <td>55662720</td>\n",
       "      <td>Психология</td>\n",
       "      <td>psyxov</td>\n",
       "      <td>0</td>\n",
       "      <td>page</td>\n",
       "      <td>6115888.0</td>\n",
       "      <td>Общество</td>\n",
       "      <td>1.0</td>\n",
       "      <td>NaN</td>\n",
       "      <td>NaN</td>\n",
       "      <td>NaN</td>\n",
       "      <td>NaN</td>\n",
       "      <td>NaN</td>\n",
       "      <td>NaN</td>\n",
       "      <td>NaN</td>\n",
       "    </tr>\n",
       "    <tr>\n",
       "      <th>2</th>\n",
       "      <td>46466345</td>\n",
       "      <td>С нами стыдно, зато весело!</td>\n",
       "      <td>contact_fun</td>\n",
       "      <td>0</td>\n",
       "      <td>page</td>\n",
       "      <td>4464702.0</td>\n",
       "      <td>Юмор</td>\n",
       "      <td>1.0</td>\n",
       "      <td>NaN</td>\n",
       "      <td>NaN</td>\n",
       "      <td>NaN</td>\n",
       "      <td>NaN</td>\n",
       "      <td>NaN</td>\n",
       "      <td>NaN</td>\n",
       "      <td>NaN</td>\n",
       "    </tr>\n",
       "    <tr>\n",
       "      <th>3</th>\n",
       "      <td>46509740</td>\n",
       "      <td>Маникюр | Дизайн ногтей</td>\n",
       "      <td>modnailru</td>\n",
       "      <td>0</td>\n",
       "      <td>page</td>\n",
       "      <td>4251328.0</td>\n",
       "      <td>Уход за собой</td>\n",
       "      <td>1.0</td>\n",
       "      <td>NaN</td>\n",
       "      <td>NaN</td>\n",
       "      <td>NaN</td>\n",
       "      <td>NaN</td>\n",
       "      <td>NaN</td>\n",
       "      <td>NaN</td>\n",
       "      <td>NaN</td>\n",
       "    </tr>\n",
       "    <tr>\n",
       "      <th>4</th>\n",
       "      <td>62122883</td>\n",
       "      <td>Хитрости жизни</td>\n",
       "      <td>piece.of_cake</td>\n",
       "      <td>0</td>\n",
       "      <td>page</td>\n",
       "      <td>3312741.0</td>\n",
       "      <td>Творчество</td>\n",
       "      <td>1.0</td>\n",
       "      <td>NaN</td>\n",
       "      <td>NaN</td>\n",
       "      <td>NaN</td>\n",
       "      <td>NaN</td>\n",
       "      <td>NaN</td>\n",
       "      <td>NaN</td>\n",
       "      <td>NaN</td>\n",
       "    </tr>\n",
       "    <tr>\n",
       "      <th>5</th>\n",
       "      <td>42968101</td>\n",
       "      <td>Читающие</td>\n",
       "      <td>club42968101</td>\n",
       "      <td>0</td>\n",
       "      <td>page</td>\n",
       "      <td>2370107.0</td>\n",
       "      <td>Литература</td>\n",
       "      <td>1.0</td>\n",
       "      <td>NaN</td>\n",
       "      <td>NaN</td>\n",
       "      <td>NaN</td>\n",
       "      <td>NaN</td>\n",
       "      <td>NaN</td>\n",
       "      <td>NaN</td>\n",
       "      <td>NaN</td>\n",
       "    </tr>\n",
       "    <tr>\n",
       "      <th>0</th>\n",
       "      <td>57846937</td>\n",
       "      <td>MDK</td>\n",
       "      <td>mudakoff</td>\n",
       "      <td>0</td>\n",
       "      <td>page</td>\n",
       "      <td>11669902.0</td>\n",
       "      <td>Юмор</td>\n",
       "      <td>1.0</td>\n",
       "      <td>NaN</td>\n",
       "      <td>NaN</td>\n",
       "      <td>NaN</td>\n",
       "      <td>NaN</td>\n",
       "      <td>NaN</td>\n",
       "      <td>NaN</td>\n",
       "      <td>NaN</td>\n",
       "    </tr>\n",
       "    <tr>\n",
       "      <th>1</th>\n",
       "      <td>171319277</td>\n",
       "      <td>Знакомства Ростов-на-Дону</td>\n",
       "      <td>rostovcityloveplace</td>\n",
       "      <td>0</td>\n",
       "      <td>group</td>\n",
       "      <td>3621.0</td>\n",
       "      <td>Открытая группа</td>\n",
       "      <td>1.0</td>\n",
       "      <td>NaN</td>\n",
       "      <td>NaN</td>\n",
       "      <td>NaN</td>\n",
       "      <td>NaN</td>\n",
       "      <td>NaN</td>\n",
       "      <td>NaN</td>\n",
       "      <td>NaN</td>\n",
       "    </tr>\n",
       "    <tr>\n",
       "      <th>2</th>\n",
       "      <td>178612435</td>\n",
       "      <td>Трансы Ростова-на-Дону</td>\n",
       "      <td>club178612435</td>\n",
       "      <td>0</td>\n",
       "      <td>group</td>\n",
       "      <td>217.0</td>\n",
       "      <td>Открытая группа</td>\n",
       "      <td>1.0</td>\n",
       "      <td>{'id': 119, 'title': 'Ростов-на-Дону'}</td>\n",
       "      <td>NaN</td>\n",
       "      <td>NaN</td>\n",
       "      <td>NaN</td>\n",
       "      <td>NaN</td>\n",
       "      <td>NaN</td>\n",
       "      <td>NaN</td>\n",
       "    </tr>\n",
       "    <tr>\n",
       "      <th>0</th>\n",
       "      <td>57846937</td>\n",
       "      <td>MDK</td>\n",
       "      <td>mudakoff</td>\n",
       "      <td>0</td>\n",
       "      <td>page</td>\n",
       "      <td>11669902.0</td>\n",
       "      <td>Юмор</td>\n",
       "      <td>1.0</td>\n",
       "      <td>NaN</td>\n",
       "      <td>NaN</td>\n",
       "      <td>NaN</td>\n",
       "      <td>NaN</td>\n",
       "      <td>NaN</td>\n",
       "      <td>NaN</td>\n",
       "      <td>NaN</td>\n",
       "    </tr>\n",
       "  </tbody>\n",
       "</table>\n",
       "</div>"
      ],
      "text/plain": [
       "          id                         name          screen_name  is_closed  \\\n",
       "0   57846937                          MDK             mudakoff          0   \n",
       "1   55662720                   Психология               psyxov          0   \n",
       "2   46466345  С нами стыдно, зато весело!          contact_fun          0   \n",
       "3   46509740      Маникюр | Дизайн ногтей            modnailru          0   \n",
       "4   62122883               Хитрости жизни        piece.of_cake          0   \n",
       "5   42968101                     Читающие         club42968101          0   \n",
       "0   57846937                          MDK             mudakoff          0   \n",
       "1  171319277    Знакомства Ростов-на-Дону  rostovcityloveplace          0   \n",
       "2  178612435       Трансы Ростова-на-Дону        club178612435          0   \n",
       "0   57846937                          MDK             mudakoff          0   \n",
       "\n",
       "    type  members_count         activity  age_limits  \\\n",
       "0   page     11669902.0             Юмор         1.0   \n",
       "1   page      6115888.0         Общество         1.0   \n",
       "2   page      4464702.0             Юмор         1.0   \n",
       "3   page      4251328.0    Уход за собой         1.0   \n",
       "4   page      3312741.0       Творчество         1.0   \n",
       "5   page      2370107.0       Литература         1.0   \n",
       "0   page     11669902.0             Юмор         1.0   \n",
       "1  group         3621.0  Открытая группа         1.0   \n",
       "2  group          217.0  Открытая группа         1.0   \n",
       "0   page     11669902.0             Юмор         1.0   \n",
       "\n",
       "                                     city  is_admin  is_member  is_advertiser  \\\n",
       "0                                     NaN       NaN        NaN            NaN   \n",
       "1                                     NaN       NaN        NaN            NaN   \n",
       "2                                     NaN       NaN        NaN            NaN   \n",
       "3                                     NaN       NaN        NaN            NaN   \n",
       "4                                     NaN       NaN        NaN            NaN   \n",
       "5                                     NaN       NaN        NaN            NaN   \n",
       "0                                     NaN       NaN        NaN            NaN   \n",
       "1                                     NaN       NaN        NaN            NaN   \n",
       "2  {'id': 119, 'title': 'Ростов-на-Дону'}       NaN        NaN            NaN   \n",
       "0                                     NaN       NaN        NaN            NaN   \n",
       "\n",
       "  photo_50 photo_100 photo_200  \n",
       "0      NaN       NaN       NaN  \n",
       "1      NaN       NaN       NaN  \n",
       "2      NaN       NaN       NaN  \n",
       "3      NaN       NaN       NaN  \n",
       "4      NaN       NaN       NaN  \n",
       "5      NaN       NaN       NaN  \n",
       "0      NaN       NaN       NaN  \n",
       "1      NaN       NaN       NaN  \n",
       "2      NaN       NaN       NaN  \n",
       "0      NaN       NaN       NaN  "
      ]
     },
     "execution_count": 73,
     "metadata": {},
     "output_type": "execute_result"
    }
   ],
   "source": [
    "final_group_df.head(10)"
   ]
  },
  {
   "cell_type": "code",
   "execution_count": null,
   "id": "c23f6b05",
   "metadata": {},
   "outputs": [],
   "source": []
  }
 ],
 "metadata": {
  "kernelspec": {
   "display_name": "Python 3",
   "language": "python",
   "name": "python3"
  },
  "language_info": {
   "codemirror_mode": {
    "name": "ipython",
    "version": 3
   },
   "file_extension": ".py",
   "mimetype": "text/x-python",
   "name": "python",
   "nbconvert_exporter": "python",
   "pygments_lexer": "ipython3",
   "version": "3.8.8"
  }
 },
 "nbformat": 4,
 "nbformat_minor": 5
}
